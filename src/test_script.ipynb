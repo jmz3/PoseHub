{
 "cells": [
  {
   "cell_type": "code",
   "execution_count": 3,
   "metadata": {},
   "outputs": [],
   "source": [
    "from pose_graph import PoseGraph\n",
    "import numpy as np"
   ]
  },
  {
   "cell_type": "code",
   "execution_count": 5,
   "metadata": {},
   "outputs": [
    {
     "name": "stdout",
     "output_type": "stream",
     "text": [
      "The sensor sensor_1 is already in the graph \n",
      " please use update_graph() to update the edges\n"
     ]
    }
   ],
   "source": [
    "sensor_id = \"sensor_1\"\n",
    "print( \"The sensor \"+ sensor_id + \" is already in the graph \\n please use update_graph() to update the edges\")"
   ]
  },
  {
   "cell_type": "code",
   "execution_count": 4,
   "metadata": {},
   "outputs": [
    {
     "name": "stdout",
     "output_type": "stream",
     "text": [
      "not in\n",
      "[[1, 'M'], [2, 'N'], [3, 'O'], [4, 'P'], [5, 'Q']]\n"
     ]
    }
   ],
   "source": [
    "sensor_id = [\"cam0\", \"cam1\", \"imu0\", \"imu1\"]\n",
    "\n",
    "pose_id = [\"cam1\", \"cam2\", \"cam3\", \"cam4\", \"cam5\"]\n",
    "\n",
    "poses = {\n",
    "    \"cam1\": [[1, \"M\"], [2, \"N\"], [3, \"O\"], [4, \"P\"], [5, \"Q\"]],\n",
    "    \"cam2\": [(2, \"N\")],\n",
    "    \"cam3\": [(3, \"O\")],\n",
    "    \"cam4\": [(4, \"P\")],\n",
    "    \"cam5\": [(5, \"Q\")],\n",
    "}\n",
    "\n",
    "# for pose in poses.items():\n",
    "#     print(pose[1][1])\n",
    "\n",
    "if 1 not in poses[\"cam1\"]:\n",
    "    print(\"not in\")\n",
    "\n",
    "print(poses[\"cam1\"])\n"
   ]
  },
  {
   "cell_type": "code",
   "execution_count": 19,
   "metadata": {},
   "outputs": [
    {
     "name": "stdout",
     "output_type": "stream",
     "text": [
      "yes\n"
     ]
    }
   ],
   "source": [
    "edge = {\"sensor\": {\"cam0\": 1, \"cam1\": 2, \"imu0\": 3, \"imu1\": 4}}\n",
    "\n",
    "# if \"sensor\" in edge:\n",
    "#     print(\"yes\")\n",
    "\n",
    "# else:\n",
    "#     print(\"no\") \n",
    "\n",
    "# try:\n",
    "#     edge[\"sensor\"][\"cam2\"]\n",
    "#     print(\"yes\")\n",
    "# except KeyError:\n",
    "#     print(\"no\")\n",
    "\n",
    "if \"cam0\" in edge.get(\"sensor\",{}):\n",
    "    print(\"yes\")\n",
    "\n"
   ]
  }
 ],
 "metadata": {
  "kernelspec": {
   "display_name": "SLE",
   "language": "python",
   "name": "python3"
  },
  "language_info": {
   "codemirror_mode": {
    "name": "ipython",
    "version": 3
   },
   "file_extension": ".py",
   "mimetype": "text/x-python",
   "name": "python",
   "nbconvert_exporter": "python",
   "pygments_lexer": "ipython3",
   "version": "3.9.18"
  }
 },
 "nbformat": 4,
 "nbformat_minor": 2
}
