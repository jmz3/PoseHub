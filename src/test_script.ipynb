{
 "cells": [
  {
   "cell_type": "code",
   "execution_count": 1,
   "metadata": {},
   "outputs": [],
   "source": [
    "from pose_graph import PoseGraph\n",
    "import numpy as np"
   ]
  },
  {
   "cell_type": "code",
   "execution_count": 5,
   "metadata": {},
   "outputs": [
    {
     "name": "stdout",
     "output_type": "stream",
     "text": [
      "The sensor sensor_1 is already in the graph \n",
      " please use update_graph() to update the edges\n"
     ]
    }
   ],
   "source": [
    "sensor_id = \"sensor_1\"\n",
    "print( \"The sensor \"+ sensor_id + \" is already in the graph \\n please use update_graph() to update the edges\")"
   ]
  },
  {
   "cell_type": "code",
   "execution_count": 4,
   "metadata": {},
   "outputs": [
    {
     "name": "stdout",
     "output_type": "stream",
     "text": [
      "not in\n",
      "[[1, 'M'], [2, 'N'], [3, 'O'], [4, 'P'], [5, 'Q']]\n"
     ]
    }
   ],
   "source": [
    "sensor_id = [\"cam0\", \"cam1\", \"imu0\", \"imu1\"]\n",
    "\n",
    "pose_id = [\"cam1\", \"cam2\", \"cam3\", \"cam4\", \"cam5\"]\n",
    "\n",
    "poses = {\n",
    "    \"cam1\": [[1, \"M\"], [2, \"N\"], [3, \"O\"], [4, \"P\"], [5, \"Q\"]],\n",
    "    \"cam2\": [(2, \"N\")],\n",
    "    \"cam3\": [(3, \"O\")],\n",
    "    \"cam4\": [(4, \"P\")],\n",
    "    \"cam5\": [(5, \"Q\")],\n",
    "}\n",
    "\n",
    "# for pose in poses.items():\n",
    "#     print(pose[1][1])\n",
    "\n",
    "if 1 not in poses[\"cam1\"]:\n",
    "    print(\"not in\")\n",
    "\n",
    "print(poses[\"cam1\"])\n"
   ]
  },
  {
   "cell_type": "code",
   "execution_count": 8,
   "metadata": {},
   "outputs": [
    {
     "name": "stdout",
     "output_type": "stream",
     "text": [
      "yes\n",
      "['cam0', 'cam1', 'cam2', 'cam3', 'cam4', 'cam5', 'cam6cam0']\n"
     ]
    }
   ],
   "source": [
    "edge = {\"sensor\": {\"cam0\": 1, \"cam1\": 2, \"imu0\": 3, \"imu1\": 4}}\n",
    "\n",
    "# if \"sensor\" in edge:\n",
    "#     print(\"yes\")\n",
    "\n",
    "# else:\n",
    "#     print(\"no\") \n",
    "\n",
    "# try:\n",
    "#     edge[\"sensor\"][\"cam2\"]\n",
    "#     print(\"yes\")\n",
    "# except KeyError:\n",
    "#     print(\"no\")\n",
    "\n",
    "if \"cam0\" in edge.get(\"sensor\",{}):\n",
    "    print(\"yes\")\n",
    "\n",
    "\n",
    "str1 = \"cam0\"\n",
    "\n",
    "list1 = [\"cam0\", \"cam1\", \"cam2\", \"cam3\", \"cam4\", \"cam5\"]\n",
    "newstr = \"cam6\"+str1\n",
    "list1.append(\"cam6\"+str1)\n",
    "print(list1)"
   ]
  },
  {
   "cell_type": "code",
   "execution_count": 10,
   "metadata": {},
   "outputs": [
    {
     "name": "stdout",
     "output_type": "stream",
     "text": [
      "cam6cam0\n",
      "cam6cam1\n",
      "cam6cam2\n",
      "cam6cam3\n",
      "cam6cam4\n",
      "cam6cam5\n"
     ]
    }
   ],
   "source": [
    "list1 = [\"cam0\", \"cam1\", \"cam2\", \"cam3\", \"cam4\", \"cam5\"]\n",
    "for item in list1:\n",
    "    string1 = \"cam6\"+item\n",
    "    print(string1)"
   ]
  },
  {
   "cell_type": "code",
   "execution_count": 2,
   "metadata": {},
   "outputs": [
    {
     "name": "stdout",
     "output_type": "stream",
     "text": [
      "The path between the parent node and the child node is:  ['sensor_0', 'object_0']\n",
      "[[ 1.  0.  0.  1.]\n",
      " [ 0.  0. -1.  0.]\n",
      " [ 0.  1.  0.  0.]\n",
      " [ 0.  0.  0.  1.]]\n"
     ]
    }
   ],
   "source": [
    "from pose_graph import PoseGraph\n",
    "import numpy as np\n",
    "pg = PoseGraph()\n",
    "\n",
    "sensor_id = \"0\"\n",
    "\n",
    "tf00 = np.array(\n",
    "    [\n",
    "        [1, 0, 0, 1],\n",
    "        [0, 0, -1, 0],\n",
    "        [0, 1, 0, 0],\n",
    "        [0, 0, 0, 1],\n",
    "    ],\n",
    "    dtype=np.float32,\n",
    ")\n",
    "\n",
    "tf01 = np.array(\n",
    "    [\n",
    "        [1, 0, 0, 0],\n",
    "        [0, 0, -1, 1],\n",
    "        [0, 1, 0, 0],\n",
    "        [0, 0, 0, 1],\n",
    "    ],\n",
    "    dtype=np.float32,\n",
    ")\n",
    "\n",
    "tf02 = np.array(\n",
    "    [\n",
    "        [1, 0, 0, 0],\n",
    "        [0, 0, -1, 2],\n",
    "        [0, 1, 0, 0],\n",
    "        [0, 0, 0, 1],\n",
    "    ],\n",
    "    dtype=np.float32,\n",
    ")\n",
    "\n",
    "pg.add_sensor(\n",
    "    sensor_id,\n",
    "    {\n",
    "        \"0\": [tf00, True],\n",
    "        \"1\": [tf01, True],\n",
    "        \"2\": [tf02, True],\n",
    "    },\n",
    ")\n",
    "\n",
    "sensor_id = \"1\"\n",
    "\n",
    "tf10 = np.array(\n",
    "    [\n",
    "        [1, 0, 0, 0],\n",
    "        [0, 0, -1, 1],\n",
    "        [0, 1, 0, 0],\n",
    "        [0, 0, 0, 1],\n",
    "    ],\n",
    "    dtype=np.float32,\n",
    ")\n",
    "\n",
    "tf11 = np.array(\n",
    "    [\n",
    "        [1, 0, 0, 1],\n",
    "        [0, 0, -1, 0],\n",
    "        [0, 1, 0, 0],\n",
    "        [0, 0, 0, 1],\n",
    "    ],\n",
    "    dtype=np.float32,\n",
    ")\n",
    "\n",
    "tf12 = np.array(\n",
    "    [\n",
    "        [1, 0, 0, 1],\n",
    "        [0, 0, -1, 2],\n",
    "        [0, 1, 0, 0],\n",
    "        [0, 0, 0, 1],\n",
    "    ],\n",
    "    dtype=np.float32,\n",
    ")\n",
    "\n",
    "pg.add_sensor(\n",
    "    sensor_id,\n",
    "    {\n",
    "        \"0\": [tf10, True],\n",
    "        \"1\": [tf11, True],\n",
    "        \"2\": [tf12, True],\n",
    "    },\n",
    ")\n",
    "\n",
    "pg.update_graph(\n",
    "    \"0\",\n",
    "    {\n",
    "        \"0\": [tf00, False],\n",
    "        \"1\": [tf01, True],\n",
    "        \"2\": [tf02, True],\n",
    "    },\n",
    ")\n",
    "\n",
    "tf00 = pg.get_transform(parent_id=\"0\", child_id=\"0\", solver_method=\"BFS\")\n",
    "\n",
    "print(tf00)\n",
    "\n",
    "# print(pg.object_id)\n",
    "# print(pg.edges)"
   ]
  },
  {
   "cell_type": "code",
   "execution_count": 1,
   "metadata": {},
   "outputs": [
    {
     "ename": "NameError",
     "evalue": "name 'np' is not defined",
     "output_type": "error",
     "traceback": [
      "\u001b[0;31m---------------------------------------------------------------------------\u001b[0m",
      "\u001b[0;31mNameError\u001b[0m                                 Traceback (most recent call last)",
      "\u001b[1;32m/Users/jeremy/Research/PoseHub/src/test_script.ipynb Cell 7\u001b[0m line \u001b[0;36m1\n\u001b[0;32m----> <a href='vscode-notebook-cell:/Users/jeremy/Research/PoseHub/src/test_script.ipynb#W6sZmlsZQ%3D%3D?line=0'>1</a>\u001b[0m tf01 \u001b[39m=\u001b[39m np\u001b[39m.\u001b[39marray([\n\u001b[1;32m      <a href='vscode-notebook-cell:/Users/jeremy/Research/PoseHub/src/test_script.ipynb#W6sZmlsZQ%3D%3D?line=1'>2</a>\u001b[0m     [\u001b[39m1\u001b[39m, \u001b[39m0\u001b[39m, \u001b[39m0\u001b[39m, \u001b[39m0\u001b[39m],\n\u001b[1;32m      <a href='vscode-notebook-cell:/Users/jeremy/Research/PoseHub/src/test_script.ipynb#W6sZmlsZQ%3D%3D?line=2'>3</a>\u001b[0m     [\u001b[39m0\u001b[39m, \u001b[39m0\u001b[39m, \u001b[39m-\u001b[39m\u001b[39m1\u001b[39m, \u001b[39m1\u001b[39m],\n\u001b[1;32m      <a href='vscode-notebook-cell:/Users/jeremy/Research/PoseHub/src/test_script.ipynb#W6sZmlsZQ%3D%3D?line=3'>4</a>\u001b[0m     [\u001b[39m0\u001b[39m, \u001b[39m1\u001b[39m, \u001b[39m0\u001b[39m, \u001b[39m0\u001b[39m],\n\u001b[1;32m      <a href='vscode-notebook-cell:/Users/jeremy/Research/PoseHub/src/test_script.ipynb#W6sZmlsZQ%3D%3D?line=4'>5</a>\u001b[0m     [\u001b[39m0\u001b[39m, \u001b[39m0\u001b[39m, \u001b[39m0\u001b[39m, \u001b[39m1\u001b[39m],\n\u001b[1;32m      <a href='vscode-notebook-cell:/Users/jeremy/Research/PoseHub/src/test_script.ipynb#W6sZmlsZQ%3D%3D?line=5'>6</a>\u001b[0m ], dtype\u001b[39m=\u001b[39mnp\u001b[39m.\u001b[39mfloat32)\n\u001b[1;32m      <a href='vscode-notebook-cell:/Users/jeremy/Research/PoseHub/src/test_script.ipynb#W6sZmlsZQ%3D%3D?line=7'>8</a>\u001b[0m tf11 \u001b[39m=\u001b[39m np\u001b[39m.\u001b[39marray([\n\u001b[1;32m      <a href='vscode-notebook-cell:/Users/jeremy/Research/PoseHub/src/test_script.ipynb#W6sZmlsZQ%3D%3D?line=8'>9</a>\u001b[0m     [\u001b[39m1\u001b[39m, \u001b[39m0\u001b[39m, \u001b[39m0\u001b[39m, \u001b[39m1\u001b[39m],\n\u001b[1;32m     <a href='vscode-notebook-cell:/Users/jeremy/Research/PoseHub/src/test_script.ipynb#W6sZmlsZQ%3D%3D?line=9'>10</a>\u001b[0m     [\u001b[39m0\u001b[39m, \u001b[39m0\u001b[39m, \u001b[39m-\u001b[39m\u001b[39m1\u001b[39m, \u001b[39m0\u001b[39m],\n\u001b[1;32m     <a href='vscode-notebook-cell:/Users/jeremy/Research/PoseHub/src/test_script.ipynb#W6sZmlsZQ%3D%3D?line=10'>11</a>\u001b[0m     [\u001b[39m0\u001b[39m, \u001b[39m1\u001b[39m, \u001b[39m0\u001b[39m, \u001b[39m0\u001b[39m],\n\u001b[1;32m     <a href='vscode-notebook-cell:/Users/jeremy/Research/PoseHub/src/test_script.ipynb#W6sZmlsZQ%3D%3D?line=11'>12</a>\u001b[0m     [\u001b[39m0\u001b[39m, \u001b[39m0\u001b[39m, \u001b[39m0\u001b[39m, \u001b[39m1\u001b[39m],\n\u001b[1;32m     <a href='vscode-notebook-cell:/Users/jeremy/Research/PoseHub/src/test_script.ipynb#W6sZmlsZQ%3D%3D?line=12'>13</a>\u001b[0m ], dtype\u001b[39m=\u001b[39mnp\u001b[39m.\u001b[39mfloat32)\n\u001b[1;32m     <a href='vscode-notebook-cell:/Users/jeremy/Research/PoseHub/src/test_script.ipynb#W6sZmlsZQ%3D%3D?line=14'>15</a>\u001b[0m tf10 \u001b[39m=\u001b[39m np\u001b[39m.\u001b[39marray([\n\u001b[1;32m     <a href='vscode-notebook-cell:/Users/jeremy/Research/PoseHub/src/test_script.ipynb#W6sZmlsZQ%3D%3D?line=15'>16</a>\u001b[0m     [\u001b[39m1\u001b[39m, \u001b[39m0\u001b[39m, \u001b[39m0\u001b[39m, \u001b[39m0\u001b[39m],\n\u001b[1;32m     <a href='vscode-notebook-cell:/Users/jeremy/Research/PoseHub/src/test_script.ipynb#W6sZmlsZQ%3D%3D?line=16'>17</a>\u001b[0m     [\u001b[39m0\u001b[39m, \u001b[39m0\u001b[39m, \u001b[39m-\u001b[39m\u001b[39m1\u001b[39m, \u001b[39m1\u001b[39m],\n\u001b[1;32m     <a href='vscode-notebook-cell:/Users/jeremy/Research/PoseHub/src/test_script.ipynb#W6sZmlsZQ%3D%3D?line=17'>18</a>\u001b[0m     [\u001b[39m0\u001b[39m, \u001b[39m1\u001b[39m, \u001b[39m0\u001b[39m, \u001b[39m0\u001b[39m],\n\u001b[1;32m     <a href='vscode-notebook-cell:/Users/jeremy/Research/PoseHub/src/test_script.ipynb#W6sZmlsZQ%3D%3D?line=18'>19</a>\u001b[0m     [\u001b[39m0\u001b[39m, \u001b[39m0\u001b[39m, \u001b[39m0\u001b[39m, \u001b[39m1\u001b[39m],\n\u001b[1;32m     <a href='vscode-notebook-cell:/Users/jeremy/Research/PoseHub/src/test_script.ipynb#W6sZmlsZQ%3D%3D?line=19'>20</a>\u001b[0m ], dtype\u001b[39m=\u001b[39mnp\u001b[39m.\u001b[39mfloat32)\n",
      "\u001b[0;31mNameError\u001b[0m: name 'np' is not defined"
     ]
    }
   ],
   "source": [
    "tf01 = np.array([\n",
    "    [1, 0, 0, 0],\n",
    "    [0, 0, -1, 1],\n",
    "    [0, 1, 0, 0],\n",
    "    [0, 0, 0, 1],\n",
    "], dtype=np.float32)\n",
    "\n",
    "tf11 = np.array([\n",
    "    [1, 0, 0, 1],\n",
    "    [0, 0, -1, 0],\n",
    "    [0, 1, 0, 0],\n",
    "    [0, 0, 0, 1],\n",
    "], dtype=np.float32)\n",
    "\n",
    "tf10 = np.array([\n",
    "    [1, 0, 0, 0],\n",
    "    [0, 0, -1, 1],\n",
    "    [0, 1, 0, 0],\n",
    "    [0, 0, 0, 1],\n",
    "], dtype=np.float32)\n",
    "\n",
    "tf00 = tf01 @ np.linalg.inv(tf11) @ tf10\n",
    "\n",
    "print(tf00)"
   ]
  }
 ],
 "metadata": {
  "kernelspec": {
   "display_name": "SLE",
   "language": "python",
   "name": "python3"
  },
  "language_info": {
   "codemirror_mode": {
    "name": "ipython",
    "version": 3
   },
   "file_extension": ".py",
   "mimetype": "text/x-python",
   "name": "python",
   "nbconvert_exporter": "python",
   "pygments_lexer": "ipython3",
   "version": "3.9.18"
  }
 },
 "nbformat": 4,
 "nbformat_minor": 2
}
