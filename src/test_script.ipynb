{
 "cells": [
  {
   "cell_type": "code",
   "execution_count": 1,
   "metadata": {},
   "outputs": [
    {
     "ename": "ImportError",
     "evalue": "cannot import name 'PoseGraph' from partially initialized module 'pose_graph' (most likely due to a circular import) (c:\\Users\\Hongchao Shu\\Desktop\\AR\\final project\\PoseHub\\src\\pose_graph.py)",
     "output_type": "error",
     "traceback": [
      "\u001b[1;31m---------------------------------------------------------------------------\u001b[0m",
      "\u001b[1;31mImportError\u001b[0m                               Traceback (most recent call last)",
      "\u001b[1;32mC:\\Users\\HONGCH~1\\AppData\\Local\\Temp/ipykernel_117060/684642957.py\u001b[0m in \u001b[0;36m<module>\u001b[1;34m\u001b[0m\n\u001b[1;32m----> 1\u001b[1;33m \u001b[1;32mfrom\u001b[0m \u001b[0mpose_graph\u001b[0m \u001b[1;32mimport\u001b[0m \u001b[0mPoseGraph\u001b[0m\u001b[1;33m\u001b[0m\u001b[1;33m\u001b[0m\u001b[0m\n\u001b[0m\u001b[0;32m      2\u001b[0m \u001b[1;32mimport\u001b[0m \u001b[0mnumpy\u001b[0m \u001b[1;32mas\u001b[0m \u001b[0mnp\u001b[0m\u001b[1;33m\u001b[0m\u001b[1;33m\u001b[0m\u001b[0m\n",
      "\u001b[1;32mc:\\Users\\Hongchao Shu\\Desktop\\AR\\final project\\PoseHub\\src\\pose_graph.py\u001b[0m in \u001b[0;36m<module>\u001b[1;34m\u001b[0m\n\u001b[0;32m      1\u001b[0m \u001b[1;32mimport\u001b[0m \u001b[0mnumpy\u001b[0m \u001b[1;32mas\u001b[0m \u001b[0mnp\u001b[0m\u001b[1;33m\u001b[0m\u001b[1;33m\u001b[0m\u001b[0m\n\u001b[1;32m----> 2\u001b[1;33m \u001b[1;32mfrom\u001b[0m \u001b[0mtransform_solver\u001b[0m \u001b[1;32mimport\u001b[0m \u001b[0mTransformSolver\u001b[0m\u001b[1;33m\u001b[0m\u001b[1;33m\u001b[0m\u001b[0m\n\u001b[0m\u001b[0;32m      3\u001b[0m \u001b[1;32mfrom\u001b[0m \u001b[0mtyping\u001b[0m \u001b[1;32mimport\u001b[0m \u001b[0mType\u001b[0m\u001b[1;33m,\u001b[0m \u001b[0mDict\u001b[0m\u001b[1;33m,\u001b[0m \u001b[0mList\u001b[0m\u001b[1;33m,\u001b[0m \u001b[0mOptional\u001b[0m\u001b[1;33m,\u001b[0m \u001b[0mTuple\u001b[0m\u001b[1;33m\u001b[0m\u001b[1;33m\u001b[0m\u001b[0m\n\u001b[0;32m      4\u001b[0m \u001b[1;33m\u001b[0m\u001b[0m\n\u001b[0;32m      5\u001b[0m \u001b[1;33m\u001b[0m\u001b[0m\n",
      "\u001b[1;32mc:\\Users\\Hongchao Shu\\Desktop\\AR\\final project\\PoseHub\\src\\transform_solver.py\u001b[0m in \u001b[0;36m<module>\u001b[1;34m\u001b[0m\n\u001b[1;32m----> 1\u001b[1;33m \u001b[1;32mfrom\u001b[0m \u001b[0mpose_graph\u001b[0m \u001b[1;32mimport\u001b[0m \u001b[0mPoseGraph\u001b[0m\u001b[1;33m\u001b[0m\u001b[1;33m\u001b[0m\u001b[0m\n\u001b[0m\u001b[0;32m      2\u001b[0m \u001b[1;33m\u001b[0m\u001b[0m\n\u001b[0;32m      3\u001b[0m \u001b[1;33m\u001b[0m\u001b[0m\n\u001b[0;32m      4\u001b[0m \u001b[1;32mclass\u001b[0m \u001b[0mTransformSolver\u001b[0m\u001b[1;33m:\u001b[0m\u001b[1;33m\u001b[0m\u001b[1;33m\u001b[0m\u001b[0m\n\u001b[0;32m      5\u001b[0m     \u001b[1;32mdef\u001b[0m \u001b[0m__init__\u001b[0m\u001b[1;33m(\u001b[0m\u001b[0mself\u001b[0m\u001b[1;33m,\u001b[0m \u001b[0mnodes\u001b[0m\u001b[1;33m:\u001b[0m \u001b[0mlist\u001b[0m\u001b[1;33m,\u001b[0m \u001b[0medges\u001b[0m\u001b[1;33m:\u001b[0m \u001b[0mdict\u001b[0m\u001b[1;33m)\u001b[0m\u001b[1;33m:\u001b[0m\u001b[1;33m\u001b[0m\u001b[1;33m\u001b[0m\u001b[0m\n",
      "\u001b[1;31mImportError\u001b[0m: cannot import name 'PoseGraph' from partially initialized module 'pose_graph' (most likely due to a circular import) (c:\\Users\\Hongchao Shu\\Desktop\\AR\\final project\\PoseHub\\src\\pose_graph.py)"
     ]
    }
   ],
   "source": [
    "from pose_graph import PoseGraph\n",
    "import numpy as np"
   ]
  },
  {
   "cell_type": "code",
   "execution_count": 5,
   "metadata": {},
   "outputs": [
    {
     "name": "stdout",
     "output_type": "stream",
     "text": [
      "The sensor sensor_1 is already in the graph \n",
      " please use update_graph() to update the edges\n"
     ]
    }
   ],
   "source": [
    "sensor_id = \"sensor_1\"\n",
    "print( \"The sensor \"+ sensor_id + \" is already in the graph \\n please use update_graph() to update the edges\")"
   ]
  },
  {
   "cell_type": "code",
   "execution_count": 4,
   "metadata": {},
   "outputs": [
    {
     "name": "stdout",
     "output_type": "stream",
     "text": [
      "not in\n",
      "[[1, 'M'], [2, 'N'], [3, 'O'], [4, 'P'], [5, 'Q']]\n"
     ]
    }
   ],
   "source": [
    "sensor_id = [\"cam0\", \"cam1\", \"imu0\", \"imu1\"]\n",
    "\n",
    "pose_id = [\"cam1\", \"cam2\", \"cam3\", \"cam4\", \"cam5\"]\n",
    "\n",
    "poses = {\n",
    "    \"cam1\": [[1, \"M\"], [2, \"N\"], [3, \"O\"], [4, \"P\"], [5, \"Q\"]],\n",
    "    \"cam2\": [(2, \"N\")],\n",
    "    \"cam3\": [(3, \"O\")],\n",
    "    \"cam4\": [(4, \"P\")],\n",
    "    \"cam5\": [(5, \"Q\")],\n",
    "}\n",
    "\n",
    "# for pose in poses.items():\n",
    "#     print(pose[1][1])\n",
    "\n",
    "if 1 not in poses[\"cam1\"]:\n",
    "    print(\"not in\")\n",
    "\n",
    "print(poses[\"cam1\"])\n"
   ]
  },
  {
   "cell_type": "code",
   "execution_count": 19,
   "metadata": {},
   "outputs": [
    {
     "name": "stdout",
     "output_type": "stream",
     "text": [
      "yes\n"
     ]
    }
   ],
   "source": [
    "edge = {\"sensor\": {\"cam0\": 1, \"cam1\": 2, \"imu0\": 3, \"imu1\": 4}}\n",
    "\n",
    "# if \"sensor\" in edge:\n",
    "#     print(\"yes\")\n",
    "\n",
    "# else:\n",
    "#     print(\"no\") \n",
    "\n",
    "# try:\n",
    "#     edge[\"sensor\"][\"cam2\"]\n",
    "#     print(\"yes\")\n",
    "# except KeyError:\n",
    "#     print(\"no\")\n",
    "\n",
    "if \"cam0\" in edge.get(\"sensor\",{}):\n",
    "    print(\"yes\")\n",
    "\n"
   ]
  }
 ],
 "metadata": {
  "kernelspec": {
   "display_name": "SLE",
   "language": "python",
   "name": "python3"
  },
  "language_info": {
   "codemirror_mode": {
    "name": "ipython",
    "version": 3
   },
   "file_extension": ".py",
   "mimetype": "text/x-python",
   "name": "python",
   "nbconvert_exporter": "python",
   "pygments_lexer": "ipython3",
   "version": "3.8.12"
  }
 },
 "nbformat": 4,
 "nbformat_minor": 2
}
