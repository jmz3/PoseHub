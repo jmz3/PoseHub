{
 "cells": [
  {
   "cell_type": "code",
   "execution_count": 3,
   "metadata": {},
   "outputs": [],
   "source": [
    "from pose_graph import PoseGraph\n",
    "import numpy as np"
   ]
  },
  {
   "cell_type": "code",
   "execution_count": 5,
   "metadata": {},
   "outputs": [
    {
     "name": "stdout",
     "output_type": "stream",
     "text": [
      "The sensor sensor_1 is already in the graph \n",
      " please use update_graph() to update the edges\n"
     ]
    }
   ],
   "source": [
    "sensor_id = \"sensor_1\"\n",
    "print( \"The sensor \"+ sensor_id + \" is already in the graph \\n please use update_graph() to update the edges\")"
   ]
  },
  {
   "cell_type": "code",
   "execution_count": 1,
   "metadata": {},
   "outputs": [
    {
     "ename": "SyntaxError",
     "evalue": "invalid syntax (30715001.py, line 7)",
     "output_type": "error",
     "traceback": [
      "\u001b[0;36m  Cell \u001b[0;32mIn[1], line 7\u001b[0;36m\u001b[0m\n\u001b[0;31m    \"cam2\": (2, \"N\"),\u001b[0m\n\u001b[0m    ^\u001b[0m\n\u001b[0;31mSyntaxError\u001b[0m\u001b[0;31m:\u001b[0m invalid syntax\n"
     ]
    }
   ],
   "source": [
    "sensor_id = [\"cam0\", \"cam1\", \"imu0\", \"imu1\"]\n",
    "\n",
    "pose_id = [\"cam1\", \"cam2\", \"cam3\", \"cam4\", \"cam5\"]\n",
    "\n",
    "poses = {\n",
    "    \"cam1\": [(1, \"M\"), (2, \"N\"), (3, \"O\"), (4, \"P\"), (5, \"Q\")],\n",
    "    \"cam2\": [(2, \"N\")],\n",
    "    \"cam3\": [(3, \"O\")],\n",
    "    \"cam4\": [(4, \"P\")],\n",
    "    \"cam5\": [(5, \"Q\")],\n",
    "}\n",
    "\n",
    "# for pose in poses.items():\n",
    "#     print(pose[1][1])\n",
    "\n",
    "if 1 not in poses[\"cam1\"]:\n",
    "    print(\"not in\")\n"
   ]
  }
 ],
 "metadata": {
  "kernelspec": {
   "display_name": "SLE",
   "language": "python",
   "name": "python3"
  },
  "language_info": {
   "codemirror_mode": {
    "name": "ipython",
    "version": 3
   },
   "file_extension": ".py",
   "mimetype": "text/x-python",
   "name": "python",
   "nbconvert_exporter": "python",
   "pygments_lexer": "ipython3",
   "version": "3.9.18"
  }
 },
 "nbformat": 4,
 "nbformat_minor": 2
}
