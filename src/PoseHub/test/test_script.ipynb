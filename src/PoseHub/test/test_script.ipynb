{
 "cells": [
  {
   "cell_type": "code",
   "execution_count": 1,
   "metadata": {},
   "outputs": [
    {
     "name": "stdout",
     "output_type": "stream",
     "text": [
      "Sending message to server: Hello, Server!\n",
      "Received reply from server: Response from server\n"
     ]
    }
   ],
   "source": [
    "import zmq\n",
    "\n",
    "# Create a ZeroMQ context\n",
    "context = zmq.Context()\n",
    "\n",
    "# Create a socket to communicate with the server\n",
    "socket = context.socket(zmq.REQ)\n",
    "server_ip = \"10.203.232.86\"\n",
    "server_port = \"5555\"  # Make sure this matches the server's port\n",
    "server_address = f\"tcp://{server_ip}:{server_port}\"\n",
    "\n",
    "# Connect to the server\n",
    "socket.connect(server_address)\n",
    "\n",
    "# Send a string message to the server\n",
    "message = \"Hello, Server!\"\n",
    "print(f\"Sending message to server: {message}\")\n",
    "socket.send_string(message)\n",
    "\n",
    "# Wait for a reply from the server\n",
    "reply = socket.recv_string()\n",
    "print(f\"Received reply from server: {reply}\")\n",
    "\n",
    "# Clean up\n",
    "socket.close()\n",
    "context.term()"
   ]
  },
  {
   "cell_type": "code",
   "execution_count": 5,
   "metadata": {},
   "outputs": [
    {
     "name": "stdout",
     "output_type": "stream",
     "text": [
      "Listening for broadcast messages...\n"
     ]
    },
    {
     "ename": "ValueError",
     "evalue": "buffer size must be a multiple of element size",
     "output_type": "error",
     "traceback": [
      "\u001b[0;31m---------------------------------------------------------------------------\u001b[0m",
      "\u001b[0;31mValueError\u001b[0m                                Traceback (most recent call last)",
      "Cell \u001b[0;32mIn[5], line 26\u001b[0m\n\u001b[1;32m     24\u001b[0m         message \u001b[38;5;241m=\u001b[39m socket\u001b[38;5;241m.\u001b[39mrecv()\n\u001b[1;32m     25\u001b[0m         \u001b[38;5;66;03m# Deserialize the numpy array\u001b[39;00m\n\u001b[0;32m---> 26\u001b[0m         array \u001b[38;5;241m=\u001b[39m \u001b[43mnp\u001b[49m\u001b[38;5;241;43m.\u001b[39;49m\u001b[43mfrombuffer\u001b[49m\u001b[43m(\u001b[49m\u001b[43mmessage\u001b[49m\u001b[43m)\u001b[49m\n\u001b[1;32m     27\u001b[0m         \u001b[38;5;28mprint\u001b[39m(\u001b[38;5;124mf\u001b[39m\u001b[38;5;124m\"\u001b[39m\u001b[38;5;124mReceived array: \u001b[39m\u001b[38;5;132;01m{\u001b[39;00marray\u001b[38;5;132;01m}\u001b[39;00m\u001b[38;5;124m\"\u001b[39m)\n\u001b[1;32m     28\u001b[0m \u001b[38;5;28;01mexcept\u001b[39;00m \u001b[38;5;167;01mKeyboardInterrupt\u001b[39;00m:\n",
      "\u001b[0;31mValueError\u001b[0m: buffer size must be a multiple of element size"
     ]
    }
   ],
   "source": [
    "import numpy as np\n",
    "import zmq\n",
    "\n",
    "# Create a ZeroMQ context\n",
    "context = zmq.Context()\n",
    "\n",
    "# Create a socket to subscribe to the broadcast\n",
    "socket = context.socket(zmq.SUB)\n",
    "broadcast_ip = \"10.203.232.86\"\n",
    "broadcast_port = \"5588\"  # Make sure this matches the broadcaster's port\n",
    "broadcast_address = f\"tcp://{broadcast_ip}:{broadcast_port}\"\n",
    "\n",
    "# Connect to the broadcast\n",
    "socket.connect(broadcast_address)\n",
    "\n",
    "# Subscribe to all messages\n",
    "socket.setsockopt_string(zmq.SUBSCRIBE, '')\n",
    "\n",
    "print(\"Listening for broadcast messages...\")\n",
    "\n",
    "try:\n",
    "    while True:\n",
    "        # Receive the message\n",
    "        message = socket.recv()\n",
    "        # Deserialize the numpy array\n",
    "        array = np.frombuffer(message)\n",
    "        print(f\"Received array: {array}\")\n",
    "except KeyboardInterrupt:\n",
    "    print(\"Stopped listening.\")\n",
    "\n",
    "# Clean up\n",
    "socket.close()\n",
    "context.term()"
   ]
  }
 ],
 "metadata": {
  "kernelspec": {
   "display_name": "posehub",
   "language": "python",
   "name": "python3"
  },
  "language_info": {
   "codemirror_mode": {
    "name": "ipython",
    "version": 3
   },
   "file_extension": ".py",
   "mimetype": "text/x-python",
   "name": "python",
   "nbconvert_exporter": "python",
   "pygments_lexer": "ipython3",
   "version": "3.9.18"
  }
 },
 "nbformat": 4,
 "nbformat_minor": 2
}
