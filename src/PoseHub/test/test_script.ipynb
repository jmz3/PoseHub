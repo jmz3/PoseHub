{
 "cells": [
  {
   "cell_type": "code",
   "execution_count": 1,
   "metadata": {},
   "outputs": [
    {
     "name": "stdout",
     "output_type": "stream",
     "text": [
      "Sending message to server: Hello, Server!\n"
     ]
    },
    {
     "ename": "KeyboardInterrupt",
     "evalue": "",
     "output_type": "error",
     "traceback": [
      "\u001b[0;31m---------------------------------------------------------------------------\u001b[0m",
      "\u001b[0;31mKeyboardInterrupt\u001b[0m                         Traceback (most recent call last)",
      "Cell \u001b[0;32mIn[1], line 21\u001b[0m\n\u001b[1;32m     18\u001b[0m socket\u001b[38;5;241m.\u001b[39msend_string(message)\n\u001b[1;32m     20\u001b[0m \u001b[38;5;66;03m# Wait for a reply from the server\u001b[39;00m\n\u001b[0;32m---> 21\u001b[0m reply \u001b[38;5;241m=\u001b[39m \u001b[43msocket\u001b[49m\u001b[38;5;241;43m.\u001b[39;49m\u001b[43mrecv_string\u001b[49m\u001b[43m(\u001b[49m\u001b[43m)\u001b[49m\n\u001b[1;32m     22\u001b[0m \u001b[38;5;28mprint\u001b[39m(\u001b[38;5;124mf\u001b[39m\u001b[38;5;124m\"\u001b[39m\u001b[38;5;124mReceived reply from server: \u001b[39m\u001b[38;5;132;01m{\u001b[39;00mreply\u001b[38;5;132;01m}\u001b[39;00m\u001b[38;5;124m\"\u001b[39m)\n\u001b[1;32m     24\u001b[0m \u001b[38;5;66;03m# Clean up\u001b[39;00m\n",
      "File \u001b[0;32m~/anaconda3/envs/posehub/lib/python3.9/site-packages/zmq/sugar/socket.py:858\u001b[0m, in \u001b[0;36mSocket.recv_string\u001b[0;34m(self, flags, encoding)\u001b[0m\n\u001b[1;32m    838\u001b[0m \u001b[38;5;28;01mdef\u001b[39;00m\u001b[38;5;250m \u001b[39m\u001b[38;5;21mrecv_string\u001b[39m(\u001b[38;5;28mself\u001b[39m, flags: \u001b[38;5;28mint\u001b[39m \u001b[38;5;241m=\u001b[39m \u001b[38;5;241m0\u001b[39m, encoding: \u001b[38;5;28mstr\u001b[39m \u001b[38;5;241m=\u001b[39m \u001b[38;5;124m'\u001b[39m\u001b[38;5;124mutf-8\u001b[39m\u001b[38;5;124m'\u001b[39m) \u001b[38;5;241m-\u001b[39m\u001b[38;5;241m>\u001b[39m \u001b[38;5;28mstr\u001b[39m:\n\u001b[1;32m    839\u001b[0m \u001b[38;5;250m    \u001b[39m\u001b[38;5;124;03m\"\"\"Receive a unicode string, as sent by send_string.\u001b[39;00m\n\u001b[1;32m    840\u001b[0m \n\u001b[1;32m    841\u001b[0m \u001b[38;5;124;03m    Parameters\u001b[39;00m\n\u001b[0;32m   (...)\u001b[0m\n\u001b[1;32m    856\u001b[0m \u001b[38;5;124;03m        for any of the reasons :func:`~Socket.recv` might fail\u001b[39;00m\n\u001b[1;32m    857\u001b[0m \u001b[38;5;124;03m    \"\"\"\u001b[39;00m\n\u001b[0;32m--> 858\u001b[0m     msg \u001b[38;5;241m=\u001b[39m \u001b[38;5;28;43mself\u001b[39;49m\u001b[38;5;241;43m.\u001b[39;49m\u001b[43mrecv\u001b[49m\u001b[43m(\u001b[49m\u001b[43mflags\u001b[49m\u001b[38;5;241;43m=\u001b[39;49m\u001b[43mflags\u001b[49m\u001b[43m)\u001b[49m\n\u001b[1;32m    859\u001b[0m     \u001b[38;5;28;01mreturn\u001b[39;00m \u001b[38;5;28mself\u001b[39m\u001b[38;5;241m.\u001b[39m_deserialize(msg, \u001b[38;5;28;01mlambda\u001b[39;00m buf: buf\u001b[38;5;241m.\u001b[39mdecode(encoding))\n",
      "File \u001b[0;32mzmq/backend/cython/socket.pyx:809\u001b[0m, in \u001b[0;36mzmq.backend.cython.socket.Socket.recv\u001b[0;34m()\u001b[0m\n",
      "File \u001b[0;32mzmq/backend/cython/socket.pyx:845\u001b[0m, in \u001b[0;36mzmq.backend.cython.socket.Socket.recv\u001b[0;34m()\u001b[0m\n",
      "File \u001b[0;32mzmq/backend/cython/socket.pyx:194\u001b[0m, in \u001b[0;36mzmq.backend.cython.socket._recv_copy\u001b[0;34m()\u001b[0m\n",
      "File \u001b[0;32m~/anaconda3/envs/posehub/lib/python3.9/site-packages/zmq/backend/cython/checkrc.pxd:13\u001b[0m, in \u001b[0;36mzmq.backend.cython.checkrc._check_rc\u001b[0;34m()\u001b[0m\n",
      "\u001b[0;31mKeyboardInterrupt\u001b[0m: "
     ]
    }
   ],
   "source": [
    "import zmq\n",
    "\n",
    "# Create a ZeroMQ context\n",
    "context = zmq.Context()\n",
    "\n",
    "# Create a socket to communicate with the server\n",
    "socket = context.socket(zmq.REQ)\n",
    "server_ip = \"10.203.232.86\"\n",
    "server_port = \"5555\"  # Make sure this matches the server's port\n",
    "server_address = f\"tcp://{server_ip}:{server_port}\"\n",
    "\n",
    "# Connect to the server\n",
    "socket.connect(server_address)\n",
    "\n",
    "# Send a string message to the server\n",
    "message = \"Hello, Server!\"\n",
    "print(f\"Sending message to server: {message}\")\n",
    "socket.send_string(message)\n",
    "\n",
    "# Wait for a reply from the server\n",
    "reply = socket.recv_string()\n",
    "print(f\"Received reply from server: {reply}\")\n",
    "\n",
    "# Clean up\n",
    "socket.close()\n",
    "context.term()"
   ]
  },
  {
   "cell_type": "code",
   "execution_count": null,
   "metadata": {},
   "outputs": [
    {
     "name": "stderr",
     "output_type": "stream",
     "text": [
      "Exception ignored in: <function Context.__del__ at 0x7f9633c73f70>\n",
      "Traceback (most recent call last):\n",
      "  File \"/home/jeremy/anaconda3/envs/posehub/lib/python3.9/site-packages/zmq/sugar/context.py\", line 95, in __del__\n",
      "    self.destroy()\n",
      "  File \"/home/jeremy/anaconda3/envs/posehub/lib/python3.9/site-packages/zmq/sugar/context.py\", line 275, in destroy\n",
      "    self.term()\n",
      "  File \"/home/jeremy/anaconda3/envs/posehub/lib/python3.9/site-packages/zmq/sugar/context.py\", line 217, in term\n",
      "    super().term()\n",
      "  File \"zmq/backend/cython/context.pyx\", line 83, in zmq.backend.cython.context.Context.term\n",
      "  File \"zmq/backend/cython/checkrc.pxd\", line 13, in zmq.backend.cython.checkrc._check_rc\n",
      "KeyboardInterrupt: \n"
     ]
    },
    {
     "name": "stdout",
     "output_type": "stream",
     "text": [
      "Listening for broadcast messages...\n",
      "No message received within the timeout period.\n",
      "No message received within the timeout period.\n",
      "No message received within the timeout period.\n",
      "No message received within the timeout period.\n",
      "No message received within the timeout period.\n",
      "No message received within the timeout period.\n",
      "No message received within the timeout period.\n",
      "No message received within the timeout period.\n",
      "No message received within the timeout period.\n",
      "No message received within the timeout period.\n",
      "No message received within the timeout period.\n"
     ]
    }
   ],
   "source": [
    "import zmq\n",
    "\n",
    "context = zmq.Context()\n",
    "socket = context.socket(zmq.SUB)\n",
    "broadcast_ip = \"192.168.0.15\"\n",
    "broadcast_port = \"5588\"  # Make sure this matches the broadcaster's port\n",
    "broadcast_address = f\"tcp://{broadcast_ip}:{broadcast_port}\"\n",
    "\n",
    "# Connect to the broadcast\n",
    "socket.connect(broadcast_address)\n",
    "\n",
    "# Subscribe to all messages\n",
    "socket.setsockopt(zmq.SUBSCRIBE, b\"\")\n",
    "socket.setsockopt(zmq.RCVTIMEO, 1000)\n",
    "\n",
    "print(\"Listening for broadcast messages...\")\n",
    "\n",
    "try:\n",
    "    while True:\n",
    "        try:\n",
    "            # Receive the message\n",
    "            topic, message = socket.recv_multipart()\n",
    "            # Deserialize the numpy array\n",
    "            decode_topic = topic.decode(\"utf-8\")\n",
    "            decode_msg = message.decode(\"utf-8\")\n",
    "\n",
    "            print(f\"Received array: {decode_topic}, {decode_msg}\")\n",
    "        except zmq.Again as e:\n",
    "            # Handle the timeout exception\n",
    "            print(\"No message received within the timeout period.\")\n",
    "except KeyboardInterrupt:\n",
    "    print(\"Stopped listening.\")\n",
    "\n",
    "# Clean up\n",
    "socket.close()\n",
    "context.term()"
   ]
  },
  {
   "cell_type": "code",
   "execution_count": 10,
   "metadata": {},
   "outputs": [
    {
     "name": "stdout",
     "output_type": "stream",
     "text": [
      "1.13.1\n"
     ]
    }
   ],
   "source": [
    "import scipy\n",
    "\n",
    "print(scipy.__version__)\n",
    "\n",
    "from scipy.spatial.transform import Rotation as R\n",
    "import numpy as np\n",
    "\n",
    "r = R.from_quat([0, 0, np.sin(np.pi/4), np.cos(np.pi/4)])"
   ]
  },
  {
   "cell_type": "code",
   "execution_count": 1,
   "metadata": {},
   "outputs": [
    {
     "ename": "ImportError",
     "evalue": "/lib/x86_64-linux-gnu/libgssapi_krb5.so.2: undefined symbol: krb5_ser_context_init, version krb5_3_MIT",
     "output_type": "error",
     "traceback": [
      "\u001b[0;31m---------------------------------------------------------------------------\u001b[0m",
      "\u001b[0;31mImportError\u001b[0m                               Traceback (most recent call last)",
      "Cell \u001b[0;32mIn[1], line 5\u001b[0m\n\u001b[1;32m      3\u001b[0m \u001b[38;5;28;01mfrom\u001b[39;00m\u001b[38;5;250m \u001b[39m\u001b[38;5;21;01mPyQt5\u001b[39;00m\u001b[38;5;21;01m.\u001b[39;00m\u001b[38;5;21;01mQtGui\u001b[39;00m\u001b[38;5;250m \u001b[39m\u001b[38;5;28;01mimport\u001b[39;00m QColor, QVector3D\n\u001b[1;32m      4\u001b[0m \u001b[38;5;28;01mfrom\u001b[39;00m\u001b[38;5;250m \u001b[39m\u001b[38;5;21;01mPyQt5\u001b[39;00m\u001b[38;5;21;01m.\u001b[39;00m\u001b[38;5;21;01mQtWidgets\u001b[39;00m\u001b[38;5;250m \u001b[39m\u001b[38;5;28;01mimport\u001b[39;00m QApplication\n\u001b[0;32m----> 5\u001b[0m \u001b[38;5;28;01mfrom\u001b[39;00m\u001b[38;5;250m \u001b[39m\u001b[38;5;21;01mPyQt5\u001b[39;00m\u001b[38;5;21;01m.\u001b[39;00m\u001b[38;5;21;01mQt3DExtras\u001b[39;00m\u001b[38;5;250m \u001b[39m\u001b[38;5;28;01mimport\u001b[39;00m (\n\u001b[1;32m      6\u001b[0m     Qt3DWindow,\n\u001b[1;32m      7\u001b[0m     QOrbitCameraController,\n\u001b[1;32m      8\u001b[0m     QPhongMaterial,\n\u001b[1;32m      9\u001b[0m     QMesh,\n\u001b[1;32m     10\u001b[0m     QTransform\n\u001b[1;32m     11\u001b[0m )\n\u001b[1;32m     12\u001b[0m \u001b[38;5;28;01mfrom\u001b[39;00m\u001b[38;5;250m \u001b[39m\u001b[38;5;21;01mPyQt5\u001b[39;00m\u001b[38;5;21;01m.\u001b[39;00m\u001b[38;5;21;01mQt3DCore\u001b[39;00m\u001b[38;5;250m \u001b[39m\u001b[38;5;28;01mimport\u001b[39;00m QEntity\n\u001b[1;32m     14\u001b[0m \u001b[38;5;66;03m# Create the main application instance\u001b[39;00m\n",
      "\u001b[0;31mImportError\u001b[0m: /lib/x86_64-linux-gnu/libgssapi_krb5.so.2: undefined symbol: krb5_ser_context_init, version krb5_3_MIT"
     ]
    }
   ],
   "source": [
    "import sys\n",
    "from PyQt5.QtCore import QUrl, QSize, Qt\n",
    "from PyQt5.QtGui import QColor, QVector3D\n",
    "from PyQt5.QtWidgets import QApplication\n",
    "from PyQt5.Qt3DExtras import (\n",
    "    Qt3DWindow,\n",
    "    QOrbitCameraController,\n",
    "    QPhongMaterial,\n",
    "    QMesh,\n",
    "    QTransform\n",
    ")\n",
    "from PyQt5.Qt3DCore import QEntity\n",
    "\n",
    "# Create the main application instance\n",
    "app = QApplication(sys.argv)\n",
    "\n",
    "# Initialize the 3D window\n",
    "view = Qt3DWindow()\n",
    "view.defaultFrameGraph().setClearColor(QColor(30, 30, 30))  # set a dark gray background\n",
    "container = view.createWindowContainer()\n",
    "container.setMinimumSize(QSize(800, 600))\n",
    "container.setMaximumSize(QSize(800, 600))\n",
    "container.setFocusPolicy(Qt.StrongFocus)\n",
    "\n",
    "# Create the root entity which acts as the parent for all 3D objects in the scene\n",
    "rootEntity = QEntity()\n",
    "\n",
    "# Set up the camera\n",
    "camera = view.camera()\n",
    "camera.lens().setPerspectiveProjection(45.0, 16/9, 0.1, 1000.0)\n",
    "camera.setPosition(QVector3D(0, 0, 20))\n",
    "camera.setViewCenter(QVector3D(0, 0, 0))\n",
    "\n",
    "# Add an orbit camera controller so that the user can interact with the scene\n",
    "camController = QOrbitCameraController(rootEntity)\n",
    "camController.setLinearSpeed(50.0)\n",
    "camController.setLookSpeed(180.0)\n",
    "camController.setCamera(camera)\n",
    "\n",
    "# Define the file path to your OBJ file. Replace the path with the actual location of your model.\n",
    "obj_file_url = QUrl.fromLocalFile(\"path/to/your/model.obj\")\n",
    "\n",
    "# ------------------------------------------------------------------------\n",
    "# First entity: Load the OBJ file and place it at a first location (e.g., -5 units on the X-axis)\n",
    "entity1 = QEntity(rootEntity)\n",
    "mesh1 = QMesh()\n",
    "mesh1.setSource(obj_file_url)\n",
    "transform1 = QTransform()\n",
    "transform1.setTranslation(QVector3D(-5, 0, 0))  # position the first model at (-5, 0, 0)\n",
    "material1 = QPhongMaterial(rootEntity)\n",
    "material1.setDiffuse(QColor(200, 100, 100))  # optional: set a diffuse color\n",
    "\n",
    "# Add the components to the first entity\n",
    "entity1.addComponent(mesh1)\n",
    "entity1.addComponent(transform1)\n",
    "entity1.addComponent(material1)\n",
    "\n",
    "# ------------------------------------------------------------------------\n",
    "# Second entity: Load the same OBJ file again and place it at a different location (e.g., +5 units on the X-axis)\n",
    "entity2 = QEntity(rootEntity)\n",
    "mesh2 = QMesh()\n",
    "mesh2.setSource(obj_file_url)\n",
    "transform2 = QTransform()\n",
    "transform2.setTranslation(QVector3D(5, 0, 0))  # position the second model at (5, 0, 0)\n",
    "material2 = QPhongMaterial(rootEntity)\n",
    "material2.setDiffuse(QColor(100, 100, 200))  # optional: set a different diffuse color for variety\n",
    "\n",
    "# Add the components to the second entity\n",
    "entity2.addComponent(mesh2)\n",
    "entity2.addComponent(transform2)\n",
    "entity2.addComponent(material2)\n",
    "\n",
    "# ------------------------------------------------------------------------\n",
    "# Set the root entity of the scene and display the window\n",
    "view.setRootEntity(rootEntity)\n",
    "view.show()\n",
    "\n",
    "# Execute the application\n",
    "sys.exit(app.exec_())\n"
   ]
  }
 ],
 "metadata": {
  "kernelspec": {
   "display_name": "Python 3",
   "language": "python",
   "name": "python3"
  },
  "language_info": {
   "codemirror_mode": {
    "name": "ipython",
    "version": 3
   },
   "file_extension": ".py",
   "mimetype": "text/x-python",
   "name": "python",
   "nbconvert_exporter": "python",
   "pygments_lexer": "ipython3",
   "version": "3.9.18"
  }
 },
 "nbformat": 4,
 "nbformat_minor": 2
}
